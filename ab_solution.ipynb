{
 "cells": [
  {
   "cell_type": "markdown",
   "metadata": {},
   "source": [
    "# Решение"
   ]
  },
  {
   "cell_type": "code",
   "execution_count": 91,
   "metadata": {},
   "outputs": [],
   "source": [
    "# Импорт библиотек\n",
    "import pandas as pd\n",
    "import numpy as np\n",
    "\n",
    "import matplotlib.pyplot as plt\n",
    "import seaborn as sns\n",
    "\n",
    "from scipy.stats import norm, mannwhitneyu, shapiro\n",
    "from statsmodels.stats.proportion import proportion_confint, proportions_ztest, proportions_chisquare\n",
    "from statsmodels.stats.weightstats import DescrStatsW\n"
   ]
  },
  {
   "cell_type": "markdown",
   "metadata": {},
   "source": [
    "## 1. Анализ структуры и предобработка данных"
   ]
  },
  {
   "cell_type": "code",
   "execution_count": 2,
   "metadata": {},
   "outputs": [
    {
     "data": {
      "text/html": [
       "<div>\n",
       "<style scoped>\n",
       "    .dataframe tbody tr th:only-of-type {\n",
       "        vertical-align: middle;\n",
       "    }\n",
       "\n",
       "    .dataframe tbody tr th {\n",
       "        vertical-align: top;\n",
       "    }\n",
       "\n",
       "    .dataframe thead th {\n",
       "        text-align: right;\n",
       "    }\n",
       "</style>\n",
       "<table border=\"1\" class=\"dataframe\">\n",
       "  <thead>\n",
       "    <tr style=\"text-align: right;\">\n",
       "      <th></th>\n",
       "      <th>user id</th>\n",
       "      <th>test group</th>\n",
       "      <th>converted</th>\n",
       "      <th>total ads</th>\n",
       "      <th>most ads day</th>\n",
       "      <th>most ads hour</th>\n",
       "    </tr>\n",
       "  </thead>\n",
       "  <tbody>\n",
       "    <tr>\n",
       "      <th>0</th>\n",
       "      <td>1069124</td>\n",
       "      <td>ad</td>\n",
       "      <td>False</td>\n",
       "      <td>130</td>\n",
       "      <td>Monday</td>\n",
       "      <td>20</td>\n",
       "    </tr>\n",
       "    <tr>\n",
       "      <th>1</th>\n",
       "      <td>1119715</td>\n",
       "      <td>ad</td>\n",
       "      <td>False</td>\n",
       "      <td>93</td>\n",
       "      <td>Tuesday</td>\n",
       "      <td>22</td>\n",
       "    </tr>\n",
       "    <tr>\n",
       "      <th>2</th>\n",
       "      <td>1144181</td>\n",
       "      <td>ad</td>\n",
       "      <td>False</td>\n",
       "      <td>21</td>\n",
       "      <td>Tuesday</td>\n",
       "      <td>18</td>\n",
       "    </tr>\n",
       "    <tr>\n",
       "      <th>3</th>\n",
       "      <td>1435133</td>\n",
       "      <td>ad</td>\n",
       "      <td>False</td>\n",
       "      <td>355</td>\n",
       "      <td>Tuesday</td>\n",
       "      <td>10</td>\n",
       "    </tr>\n",
       "    <tr>\n",
       "      <th>4</th>\n",
       "      <td>1015700</td>\n",
       "      <td>ad</td>\n",
       "      <td>False</td>\n",
       "      <td>276</td>\n",
       "      <td>Friday</td>\n",
       "      <td>14</td>\n",
       "    </tr>\n",
       "  </tbody>\n",
       "</table>\n",
       "</div>"
      ],
      "text/plain": [
       "   user id test group  converted  total ads most ads day  most ads hour\n",
       "0  1069124         ad      False        130       Monday             20\n",
       "1  1119715         ad      False         93      Tuesday             22\n",
       "2  1144181         ad      False         21      Tuesday             18\n",
       "3  1435133         ad      False        355      Tuesday             10\n",
       "4  1015700         ad      False        276       Friday             14"
      ]
     },
     "execution_count": 2,
     "metadata": {},
     "output_type": "execute_result"
    }
   ],
   "source": [
    "# Загрузка и первый взгляд\n",
    "data = pd.read_csv('data/marketing_AB.csv', index_col=0)\n",
    "\n",
    "data.head(5)"
   ]
  },
  {
   "cell_type": "code",
   "execution_count": 3,
   "metadata": {},
   "outputs": [
    {
     "name": "stdout",
     "output_type": "stream",
     "text": [
      "<class 'pandas.core.frame.DataFrame'>\n",
      "Index: 588101 entries, 0 to 588100\n",
      "Data columns (total 6 columns):\n",
      " #   Column         Non-Null Count   Dtype \n",
      "---  ------         --------------   ----- \n",
      " 0   user id        588101 non-null  int64 \n",
      " 1   test group     588101 non-null  object\n",
      " 2   converted      588101 non-null  bool  \n",
      " 3   total ads      588101 non-null  int64 \n",
      " 4   most ads day   588101 non-null  object\n",
      " 5   most ads hour  588101 non-null  int64 \n",
      "dtypes: bool(1), int64(3), object(2)\n",
      "memory usage: 27.5+ MB\n"
     ]
    }
   ],
   "source": [
    "# Исходные данные без пропусков\n",
    "data.info()"
   ]
  },
  {
   "cell_type": "code",
   "execution_count": 4,
   "metadata": {},
   "outputs": [
    {
     "data": {
      "text/plain": [
       "588101"
      ]
     },
     "execution_count": 4,
     "metadata": {},
     "output_type": "execute_result"
    }
   ],
   "source": [
    "# Кол-во уникальных пользователей == всего записей;\n",
    "# => нет пользователей, оказавшихся в обеих группах\n",
    "data['user id'].nunique()"
   ]
  },
  {
   "cell_type": "code",
   "execution_count": 5,
   "metadata": {},
   "outputs": [],
   "source": [
    "# Для дальнейшей работы тип bool лучше преобразовать в int\n",
    "data['converted'] = data['converted'].astype(int)"
   ]
  },
  {
   "cell_type": "code",
   "execution_count": 6,
   "metadata": {},
   "outputs": [],
   "source": [
    "# Объявлю явно группы A и B\n",
    "#data.replace({'test group': {'psa': 'A', 'ad': 'B'}}, inplace=True)"
   ]
  },
  {
   "cell_type": "markdown",
   "metadata": {},
   "source": [
    "## 2. Первичный анализ результатов A/B-теста"
   ]
  },
  {
   "cell_type": "code",
   "execution_count": 7,
   "metadata": {},
   "outputs": [
    {
     "data": {
      "text/html": [
       "<div>\n",
       "<style scoped>\n",
       "    .dataframe tbody tr th:only-of-type {\n",
       "        vertical-align: middle;\n",
       "    }\n",
       "\n",
       "    .dataframe tbody tr th {\n",
       "        vertical-align: top;\n",
       "    }\n",
       "\n",
       "    .dataframe thead th {\n",
       "        text-align: right;\n",
       "    }\n",
       "</style>\n",
       "<table border=\"1\" class=\"dataframe\">\n",
       "  <thead>\n",
       "    <tr style=\"text-align: right;\">\n",
       "      <th></th>\n",
       "      <th>user_count</th>\n",
       "      <th>converted</th>\n",
       "    </tr>\n",
       "    <tr>\n",
       "      <th>test group</th>\n",
       "      <th></th>\n",
       "      <th></th>\n",
       "    </tr>\n",
       "  </thead>\n",
       "  <tbody>\n",
       "    <tr>\n",
       "      <th>ad</th>\n",
       "      <td>564577</td>\n",
       "      <td>14423</td>\n",
       "    </tr>\n",
       "    <tr>\n",
       "      <th>psa</th>\n",
       "      <td>23524</td>\n",
       "      <td>420</td>\n",
       "    </tr>\n",
       "  </tbody>\n",
       "</table>\n",
       "</div>"
      ],
      "text/plain": [
       "            user_count  converted\n",
       "test group                       \n",
       "ad              564577      14423\n",
       "psa              23524        420"
      ]
     },
     "execution_count": 7,
     "metadata": {},
     "output_type": "execute_result"
    }
   ],
   "source": [
    "# Кол-во посещений/покупок для различных групп\n",
    "group_data = data.groupby('test group')['converted']\\\n",
    "                 .agg(['count', 'sum'])\\\n",
    "                 .rename({'count':'user_count', 'sum':'converted'}, axis=1)\n",
    "#.reset_index()\\\n",
    "\n",
    "group_data"
   ]
  },
  {
   "cell_type": "markdown",
   "metadata": {},
   "source": [
    "Очевидно, что данные несбалансированные. Группа 'ad' ('B') превосходит группу 'psa' ('A') по количеству пользователей более чем в 20 раз, а по количеству покупок - более чем в 30 раз."
   ]
  },
  {
   "cell_type": "code",
   "execution_count": 8,
   "metadata": {},
   "outputs": [
    {
     "data": {
      "text/html": [
       "<div>\n",
       "<style scoped>\n",
       "    .dataframe tbody tr th:only-of-type {\n",
       "        vertical-align: middle;\n",
       "    }\n",
       "\n",
       "    .dataframe tbody tr th {\n",
       "        vertical-align: top;\n",
       "    }\n",
       "\n",
       "    .dataframe thead th {\n",
       "        text-align: right;\n",
       "    }\n",
       "</style>\n",
       "<table border=\"1\" class=\"dataframe\">\n",
       "  <thead>\n",
       "    <tr style=\"text-align: right;\">\n",
       "      <th></th>\n",
       "      <th>user_count</th>\n",
       "      <th>converted</th>\n",
       "      <th>conversion</th>\n",
       "      <th>avg_ttl_ads</th>\n",
       "    </tr>\n",
       "    <tr>\n",
       "      <th>test group</th>\n",
       "      <th></th>\n",
       "      <th></th>\n",
       "      <th></th>\n",
       "      <th></th>\n",
       "    </tr>\n",
       "  </thead>\n",
       "  <tbody>\n",
       "    <tr>\n",
       "      <th>ad</th>\n",
       "      <td>564577</td>\n",
       "      <td>14423</td>\n",
       "      <td>2.554656</td>\n",
       "      <td>24.823365</td>\n",
       "    </tr>\n",
       "    <tr>\n",
       "      <th>psa</th>\n",
       "      <td>23524</td>\n",
       "      <td>420</td>\n",
       "      <td>1.785411</td>\n",
       "      <td>24.761138</td>\n",
       "    </tr>\n",
       "  </tbody>\n",
       "</table>\n",
       "</div>"
      ],
      "text/plain": [
       "            user_count  converted  conversion  avg_ttl_ads\n",
       "test group                                                \n",
       "ad              564577      14423    2.554656    24.823365\n",
       "psa              23524        420    1.785411    24.761138"
      ]
     },
     "execution_count": 8,
     "metadata": {},
     "output_type": "execute_result"
    }
   ],
   "source": [
    "# Найдем: \n",
    "# конверсию в %\n",
    "group_data['conversion'] = group_data['converted'] / group_data['user_count'] * 100\n",
    "\n",
    "# среднее кол-во рекламы, увиденной пользователем\n",
    "group_data['avg_ttl_ads'] = (\n",
    "    data.groupby('test group')['total ads'].sum() / group_data['user_count']\n",
    ")\n",
    "\n",
    "group_data"
   ]
  },
  {
   "cell_type": "markdown",
   "metadata": {},
   "source": [
    "Хотя среднее количество рекламы, кажется, находится на одном уровне в обеих группах. На первый взгляд, **вариант B** (группа 'ad') выглядит **эффективнее**, так как показатель конверсии преводсходит другую группу в ~1.5 раза. "
   ]
  },
  {
   "cell_type": "markdown",
   "metadata": {},
   "source": [
    "## 3. Статистические тесты для анализа результатов A/B-теста"
   ]
  },
  {
   "cell_type": "markdown",
   "metadata": {},
   "source": [
    "- котрольная группа (A) - psa\n",
    "- тестовая группа (B) - ad\n",
    "\n",
    "---\n",
    "\n",
    "Гипотеза 1 (для конверсий):\n",
    "- H0 (нулевая гипотеза): Нет статистически значимой разницы в конверсиях между группами \"ad\" и \"psa\"\n",
    "- H1 (альтернативная гипотеза): Существует статистически значимая разница в конверсиях между группами \"ad\" и \"psa\"\n",
    "\n",
    "Гипотеза 2 (для среднего количества увиденной рекламы): \n",
    "- H0: Нет статистически значимой разницы в среднем количестве увиденной рекламы между группами \"ad\" и \"psa\" \n",
    "- H1: Существует статистически значимая разница в среднем количестве увиденной рекламы между группами \"ad\" и \"psa\" \n",
    "\n",
    "Для проверки гипотез о различии конверсий между двумя независимыми группами и о различии средних используем t-тест. Перед этим проверим данные на нормальность."
   ]
  },
  {
   "cell_type": "markdown",
   "metadata": {},
   "source": [
    "### Статистические тесты"
   ]
  },
  {
   "cell_type": "markdown",
   "metadata": {},
   "source": [
    "$Z$-тест для конверсии"
   ]
  },
  {
   "cell_type": "code",
   "execution_count": 77,
   "metadata": {},
   "outputs": [
    {
     "name": "stdout",
     "output_type": "stream",
     "text": [
      "p-value:  0.0\n",
      "Отвергаем нулевую гипотезу в пользу альтернативной\n"
     ]
    }
   ],
   "source": [
    "alpha = 0.05 # уровень значимости\n",
    "# вычисляем значение p-value для z-теста для пропорций\n",
    "_, p_value = proportions_ztest(\n",
    "    count=group_data['converted'], # число «успехов»\n",
    "    nobs=group_data['user_count'], # общее число наблюдений\n",
    "    alternative='two-sided',\n",
    ")\n",
    "\n",
    "# выводим результат на экран\n",
    "print('p-value: ', round(p_value, 3))\n",
    "# сравниваем полученное p-value с уровнем значимости\n",
    "if (p_value <= alpha):\n",
    "    print(\"Отвергаем нулевую гипотезу в пользу альтернативной\")\n",
    "else:\n",
    "    print(\"У нас нет оснований отвергнуть нулевую гипотезу\")"
   ]
  },
  {
   "cell_type": "markdown",
   "metadata": {},
   "source": [
    "$\\chi^2$-тест для конверсии"
   ]
  },
  {
   "cell_type": "code",
   "execution_count": 78,
   "metadata": {},
   "outputs": [
    {
     "name": "stdout",
     "output_type": "stream",
     "text": [
      "p-value:  0.0\n",
      "Отвергаем нулевую гипотезу в пользу альтернативной\n"
     ]
    }
   ],
   "source": [
    "alpha = 0.05 # уровень значимости\n",
    "# вычисляем значение p-value для Z-теста для пропорций\n",
    "_, p_value, c = proportions_chisquare(\n",
    "    count=group_data['converted'], # число «успехов»\n",
    "    nobs=group_data['user_count'], # общее число наблюдений\n",
    ")\n",
    "# выводим результат на экран\n",
    "print('p-value: ', round(p_value, 3))\n",
    "# сравниваем полученное p-value с уровнем значимости\n",
    "if (p_value <= alpha):\n",
    "    print(\"Отвергаем нулевую гипотезу в пользу альтернативной\")\n",
    "else:\n",
    "    print(\"У нас нет оснований отвергнуть нулевую гипотезу\")"
   ]
  },
  {
   "cell_type": "code",
   "execution_count": 73,
   "metadata": {},
   "outputs": [
    {
     "data": {
      "image/png": "[encoded data removed]",
      "text/plain": [
       "<Figure size 1200x400 with 2 Axes>"
      ]
     },
     "metadata": {},
     "output_type": "display_data"
    }
   ],
   "source": [
    "# создаём два графика размером\n",
    "fig, axes = plt.subplots(1, 2, figsize=(12, 4))\n",
    "# строим гистограмму для кол-ва показанной рекламы в каждой группе\n",
    "sns.histplot(x='total ads', data=data[data['test group'] == 'psa'], bins=31, ax=axes[0])\n",
    "sns.histplot(x='total ads', data=data[data['test group'] == 'ad'], bins=31, ax=axes[1])\n",
    "# задаём названия графикам\n",
    "axes[0].set_title('Распределение по кол-ву рекламы в группе А')\n",
    "axes[1].set_title('Распределение по кол-ву рекламы в группе B');"
   ]
  },
  {
   "cell_type": "markdown",
   "metadata": {},
   "source": [
    "Из графиков видно, что количество увиденной рекламы не имеет нормального распределения (похоже на логнормальное)."
   ]
  },
  {
   "cell_type": "code",
   "execution_count": 79,
   "metadata": {},
   "outputs": [
    {
     "name": "stdout",
     "output_type": "stream",
     "text": [
      "p-value группы А 0.0\n",
      "p-value группы B 0.0\n",
      "Отвергаем нулевую гипотезу в пользу альтернативной. Распределение в группе А отлично от нормального\n",
      "Отвергаем нулевую гипотезу в пользу альтернативной. Распределение в группе B отлично от нормального\n"
     ]
    },
    {
     "name": "stderr",
     "output_type": "stream",
     "text": [
      "/home/cavalier13/.local/lib/python3.10/site-packages/scipy/stats/_morestats.py:1882: UserWarning: p-value may not be accurate for N > 5000.\n",
      "  warnings.warn(\"p-value may not be accurate for N > 5000.\")\n"
     ]
    }
   ],
   "source": [
    "alpha = 0.05 # уровень значимости\n",
    "# вычисляем результат теста Шапиро — Уилка для выборок\n",
    "shapiro_result_a = shapiro(data[data['test group'] == 'psa']['total ads'])\n",
    "shapiro_result_b = shapiro(data[data['test group'] == 'ad']['total ads'])\n",
    "print('p-value группы А', round(shapiro_result_a.pvalue, 2))\n",
    "print('p-value группы B', round(shapiro_result_b.pvalue, 2))\n",
    "\n",
    "# сравниваем полученное p-value для группы А с уровнем значимости\n",
    "if shapiro_result_a.pvalue <= alpha:\n",
    "    print(\"Отвергаем нулевую гипотезу в пользу альтернативной. Распределение в группе А отлично от нормального\")\n",
    "else:\n",
    "    print(\"Принимаем нулевую гипотезу. Распределение в группе А является нормальным\")\n",
    "\n",
    "# сравниваем полученное p-value для группы B с уровнем значимости\n",
    "if shapiro_result_b.pvalue <= alpha:\n",
    "    print(\"Отвергаем нулевую гипотезу в пользу альтернативной. Распределение в группе B отлично от нормального\")\n",
    "else:\n",
    "    print(\"Принимаем нулевую гипотезу. Распределение в группе B является нормальным\")"
   ]
  },
  {
   "cell_type": "code",
   "execution_count": 81,
   "metadata": {},
   "outputs": [
    {
     "name": "stdout",
     "output_type": "stream",
     "text": [
      "p-value: 0.0\n",
      "Отвергаем нулевую гипотезу в пользу альтернативной\n"
     ]
    }
   ],
   "source": [
    "alpha = 0.05 # уровень значимости\n",
    "\n",
    "# вычисляем результат теста Манна — Уитни для выборок\n",
    "results = mannwhitneyu(\n",
    "    x=data[data['test group'] == 'psa']['total ads'],\n",
    "    y=data[data['test group'] == 'ad']['total ads'],\n",
    "    alternative='two-sided'\n",
    ")\n",
    "print('p-value:', round(results.pvalue, 2))\n",
    "\n",
    "# сравниваем полученное p-value с уровнем значимости\n",
    "if results.pvalue <= alpha:\n",
    "    print(\"Отвергаем нулевую гипотезу в пользу альтернативной\")\n",
    "else:\n",
    "    print(\"У нас нет оснований отвергнуть нулевую гипотезу\")"
   ]
  },
  {
   "cell_type": "markdown",
   "metadata": {},
   "source": [
    "С помощью аппарата статистических тестов определено: \n",
    "1) Существует статистически значимая разница в конверсиях между группами \"ad\" и \"psa\"\n",
    "2) Существует статистически значимая разница в среднем количестве увиденной рекламы между группами \"ad\" и \"psa\""
   ]
  },
  {
   "cell_type": "markdown",
   "metadata": {},
   "source": [
    "### Доверительные интервалы"
   ]
  },
  {
   "cell_type": "code",
   "execution_count": 115,
   "metadata": {},
   "outputs": [
    {
     "name": "stdout",
     "output_type": "stream",
     "text": [
      "Доверительный интервал для конверсии в группе A: 1.62 - 1.96\n",
      "Доверительный интервал для конверсии в группе B: 2.51 - 2.6\n"
     ]
    }
   ],
   "source": [
    "gamma = 0.95 # уровень надежности\n",
    "alpha = 1 - gamma # уровень значимости\n",
    "\n",
    "# Доверительные интервалы для конверсии\n",
    "ci_conversion_a = proportion_confint(group_data.loc['psa', 'converted'],\n",
    "                                     group_data.loc['psa', 'user_count'],\n",
    "                                     alpha=alpha, method='wilson')\n",
    "print('Доверительный интервал для конверсии в группе A:', \n",
    "      round(ci_conversion_a[0] * 100, 2),\n",
    "      '-',\n",
    "      round(ci_conversion_a[1] * 100, 2))\n",
    "\n",
    "ci_conversion_b = proportion_confint(group_data.loc['ad', 'converted'],\n",
    "                                     group_data.loc['ad', 'user_count'],\n",
    "                                     alpha=alpha, method='wilson')\n",
    "print('Доверительный интервал для конверсии в группе B:', \n",
    "      round(ci_conversion_b[0] * 100, 2),\n",
    "      '-',\n",
    "      round(ci_conversion_b[1] * 100, 2))"
   ]
  },
  {
   "cell_type": "code",
   "execution_count": 116,
   "metadata": {},
   "outputs": [
    {
     "name": "stdout",
     "output_type": "stream",
     "text": [
      "Доверительный интервал для разности конверсий: 0.6 - 0.94\n"
     ]
    }
   ],
   "source": [
    "def diff_proportion_conf_interval(x_p, n, gamma=0.95):\n",
    "    alpha = 1 - gamma # уровень значимости\n",
    "    diff = x_p[1] - x_p[0] # выборочная разница конверсий групп B и A\n",
    "    z_crit = -norm.ppf(alpha/2) # z-критическое\n",
    "    eps = z_crit * (x_p[0] * (1 - x_p[0])/n[0] + x_p[1] * (1 - x_p[1])/n[1]) ** 0.5 # погрешность\n",
    "    lower_bound = diff - eps # левая (нижняя) граница\n",
    "    upper_bound = diff + eps # правая (верхняя) граница\n",
    "    # возвращаем кортеж из  границ интервала\n",
    "    return lower_bound, upper_bound\n",
    "\n",
    "\n",
    "# размеры выборок групп А и B\n",
    "n = [group_data.loc['psa', 'user_count'], group_data.loc['ad', 'user_count']]\n",
    "# выборочная пропорция групп A и B\n",
    "#x_p = [group_data.loc['psa', 'conversion'], group_data.loc['ad', 'conversion']]\n",
    "x_p = [group_data.loc['psa', 'conversion']/100, group_data.loc['ad', 'conversion']/100]\n",
    "\n",
    "\n",
    "# строим доверительный интервал для разности пропорций\n",
    "lower_bound, upper_bound = diff_proportion_conf_interval(x_p=x_p, n=n)\n",
    "\n",
    "\n",
    "# выводим результат\n",
    "print(\n",
    "    'Доверительный интервал для разности конверсий:', \n",
    "    round(lower_bound*100, 2),\n",
    "    '-',\n",
    "    round(upper_bound*100, 2)\n",
    ")"
   ]
  },
  {
   "cell_type": "markdown",
   "metadata": {},
   "source": [
    "Истинная разница в конверсии положительная. Вариант '**B**' ('ad') более эффективен по метрике конверсии, чем вариант 'A' ('psa') с заданной надежностью 95%"
   ]
  },
  {
   "cell_type": "code",
   "execution_count": 117,
   "metadata": {},
   "outputs": [
    {
     "name": "stdout",
     "output_type": "stream",
     "text": [
      "Доверительный интервал для среднего количества увиденной рекламы в группе A: 24.21 - 25.31\n",
      "Доверительный интервал для среднего количества увиденной рекламы в группе B: 24.71 - 24.94\n"
     ]
    }
   ],
   "source": [
    "# Доверительные интервалы для среднего количества увиденной рекламы\n",
    "ci_ads_a = DescrStatsW(data[data['test group'] == 'psa']['total ads']).tconfint_mean(alpha=0.05)\n",
    "print('Доверительный интервал для среднего количества увиденной рекламы в группе A:', \n",
    "      round(ci_ads_a[0], 2),\n",
    "      '-',\n",
    "      round(ci_ads_a[1], 2))\n",
    "\n",
    "\n",
    "ci_ads_b = DescrStatsW(data[data['test group'] == 'ad']['total ads']).tconfint_mean(alpha=0.05)\n",
    "print('Доверительный интервал для среднего количества увиденной рекламы в группе B:', \n",
    "      round(ci_ads_b[0], 2),\n",
    "      '-',\n",
    "      round(ci_ads_b[1], 2))"
   ]
  },
  {
   "cell_type": "markdown",
   "metadata": {},
   "source": [
    "Доверительный интервал для среднего кол-ва рекламы группы B лежит внутри дов. интервала группы A. Это значит, различие в среднем количестве увиденной рекламы статистически не значимо."
   ]
  },
  {
   "cell_type": "code",
   "execution_count": 129,
   "metadata": {},
   "outputs": [
    {
     "data": {
      "image/png": "[encoded data removed]",
      "text/plain": [
       "<Figure size 1200x500 with 2 Axes>"
      ]
     },
     "metadata": {},
     "output_type": "display_data"
    }
   ],
   "source": [
    "# Создание графиков\n",
    "fig, axes = plt.subplots(nrows=1, ncols=2, figsize=(12, 5))\n",
    "\n",
    "# График для конверсий\n",
    "axes[0].bar(\n",
    "    ['ad', 'psa'],\n",
    "    [group_data.loc['ad', 'conversion'], group_data.loc['psa', 'conversion']], \n",
    "    yerr=[ci_conversion_b[1]*100 - group_data.loc['ad', 'conversion'], \n",
    "          ci_conversion_a[1]*100 - group_data.loc['psa', 'conversion']], \n",
    "    capsize=10, \n",
    "    color=['blue', 'red']\n",
    ")\n",
    "axes[0].grid()\n",
    "axes[0].set_ylim([1, 3])\n",
    "axes[0].set_ylabel('Conversion Rate')\n",
    "axes[0].set_title('Conversion Rate with 95% CI')\n",
    "\n",
    "# График для среднего количества увиденной рекламы\n",
    "axes[1].bar(\n",
    "    ['ad', 'psa'],\n",
    "    [group_data.loc['ad', 'avg_ttl_ads'], group_data.loc['psa', 'avg_ttl_ads']], \n",
    "    yerr=[ci_ads_b[1] - group_data.loc['ad', 'avg_ttl_ads'], \n",
    "          ci_ads_a[1] - group_data.loc['psa', 'avg_ttl_ads']], \n",
    "    capsize=10, \n",
    "    color=['blue', 'red']\n",
    ")\n",
    "axes[1].grid()\n",
    "axes[1].set_ylim([22, 27])\n",
    "axes[1].set_ylabel('Average Ads per User')\n",
    "axes[1].set_title('Average Ads per User with 95% CI')\n",
    "\n",
    "# Отображение графиков\n",
    "plt.tight_layout()\n",
    "plt.show()"
   ]
  },
  {
   "cell_type": "markdown",
   "metadata": {},
   "source": [
    "# Итоги\n",
    "\n",
    "- Конверсия в группе \"ad\" (где пользователи видели рекламу) выше, чем в группе \"psa\" (где пользователи видели только объявление государственной службы). Это может указывать на положительное воздействие рекламной кампании на поведение пользователей.\n",
    "- Статистический анализ подтверждает, что различие в конверсиях между группами \"ad\" и \"psa\" является статистически значимым. Это говорит о том, что рекламная кампания, скорее всего, влияет на поведение пользователей и способствует увеличению числа покупок.\n",
    "- Доверительные интервалы для конверсий не пересекаются, что подчеркивает статистическую значимость различий в конверсиях между группами\n",
    "\n",
    "На основе представленных данных и статистического анализа мы можем сделать вывод, что рекламная кампания оказывает положительное влияние на конверсию пользователей. Группа, которая видела рекламу, демонстрирует более высокую конверсию по сравнению с группой, которая видела только государственное объявление. Это подтверждается и статистическими тестами, и доверительными интервалами.\n",
    "\n",
    "Однако, стоит также обратить внимание, что среднее количество увиденной рекламы практически одинаково в обеих группах. Это может указывать на эффективность рекламы.\n",
    "\n",
    "Таким образом, успех рекламной кампании в значительной степени обоснован, и ее влияние на конверсию является статистически значимым."
   ]
  }
 ],
 "metadata": {
  "kernelspec": {
   "display_name": "Python 3",
   "language": "python",
   "name": "python3"
  },
  "language_info": {
   "codemirror_mode": {
    "name": "ipython",
    "version": 3
   },
   "file_extension": ".py",
   "mimetype": "text/x-python",
   "name": "python",
   "nbconvert_exporter": "python",
   "pygments_lexer": "ipython3",
   "version": "3.10.12"
  }
 },
 "nbformat": 4,
 "nbformat_minor": 2
}
